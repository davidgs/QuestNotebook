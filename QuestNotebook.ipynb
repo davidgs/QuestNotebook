{
 "cells": [
  {
   "cell_type": "markdown",
   "metadata": {},
   "source": [
    "# QuestDB Tutorial for Python"
   ]
  },
  {
   "cell_type": "markdown",
   "metadata": {},
   "source": [
    "## Getting Started\n",
    "\n",
    "To get started, you'll need a few things installed and set up. This should be quick. \n",
    "\n",
    "1. QuestDB: To install Questdb you can see [Installation](https://questdb.io/getstarted) for complete instructions in case you want to use Docker, or `brew` on MacOS, but the easiest way is to download the binaries and run it directly. Instructions for that are [Here](https://questdb.io/docs/guideBinaries).\n",
    "2. Jupyter Notebooks: That's what this is. To run it, you should:\n",
    "    1. install Jupyter Notebooks with `pip3 install --upgrade ipython jupyter`\n",
    "    2. make sure that the libraries we use in this tutorial are also installed with `pip3 install matplotlib pandas`\n",
    "    3. clone this repository (`git clone https://github.com/davidgs/QuestNotebook`)\n",
    "    4. in the repository directory run `jupyter notebook`\n",
    "   \n",
    "That will get you right back to a page like this that is interactive, allowing you to run the code and interact with the database yourself."
   ]
  },
  {
   "cell_type": "markdown",
   "metadata": {},
   "source": [
    "## Create A Database\n",
    "\n",
    "We will need someplace to store our data, so let's create a test database where we can put some random data.\n",
    "\n",
    "We will create a simple table with 5 columns, one of which is a `timestamp` \n",
    "\n",
    "The Create operation in QuestDB appends records to bottom of a table. If the table has a designated `timestamp`, new record timestamps must be superior or equal to the latest timestamp. Attempts to add a timestamp in middle of a table will result in a timestamp out of order error.\n",
    "\n",
    "* `cust_id` is the customer identifier. It uniquely identifies customer.\n",
    "* `balance_ccy` balance currency. We use `SYMBOL` here to avoid storing text against each record to save space and increase database performance.\n",
    "* `balance` is the current balance for customer and currency tuple.\n",
    "* `inactive` is used to flag deleted records.\n",
    "* `timestamp` timestamp in microseconds of the record. Note that if you receive the timestamp data as a string, it could also be inserted using `to_timestamp`.\n",
    "\n",
    "This should return a `200` status the first time you run it. If you run it more than once, subsequent runs will return `400` because the database already exists."
   ]
  },
  {
   "cell_type": "code",
   "execution_count": null,
   "metadata": {},
   "outputs": [],
   "source": [
    "import requests\n",
    "import urllib.parse as par\n",
    "\n",
    "r = requests.get(\"http://localhost:9000/exec?query=create table balances(cust_id int,balance_ccy symbol,balance double,inactive boolean,timestamp timestamp)timestamp(timestamp)\")\n",
    "print(r.status_code)"
   ]
  },
  {
   "cell_type": "markdown",
   "metadata": {},
   "source": [
    "## Generate some Data\n",
    "\n",
    "Since we have a new setup, we should add some data to QuestDB so that we can have something to query. We will add some random data, for now. \n"
   ]
  },
  {
   "cell_type": "code",
   "execution_count": null,
   "metadata": {},
   "outputs": [],
   "source": [
    "import requests\n",
    "import random\n",
    "from datetime import datetime\n",
    "success = 0\n",
    "fail = 0\n",
    "currency = [\"$\", \"€\", \"£\", \"¥\"]\n",
    "random.seed()\n",
    "for x in range(100):\n",
    "    cust = random.randint(20, 42)\n",
    "    cur = random.choice(currency)\n",
    "    bal = round(random.uniform(10.45, 235.15), 2)\n",
    "    act = bool(random.getrandbits(1))\n",
    "    query = \"insert into balances values(\" + str(cust) + \",'\" + cur + \"',\" + str(bal) + \",\" + str(act) + \",systimestamp())\"\n",
    "    r = requests.get(\"http://localhost:9000/exec?query=\" + query)\n",
    "    if r.status_code == 200:\n",
    "        success += 1\n",
    "    else:\n",
    "        fail += 1\n",
    "    \n",
    "print(\"Rows inserted: \" + str(success))\n",
    "if fail > 0:\n",
    "    print(\"Rows Failed: \" + str(fail))\n",
    "    "
   ]
  },
  {
   "cell_type": "markdown",
   "metadata": {},
   "source": [
    "## Query Data from QuestDB\n",
    "\n",
    "Now that we have data available, let's try querying some of it to see what we get back!"
   ]
  },
  {
   "cell_type": "code",
   "execution_count": null,
   "metadata": {},
   "outputs": [],
   "source": [
    "import requests\n",
    "import io\n",
    "\n",
    "r = requests.get(\"http://localhost:9000/exp?query=select * from  balances\")\n",
    "rawData = r.content\n",
    "print(rawData)\n"
   ]
  },
  {
   "cell_type": "markdown",
   "metadata": {},
   "source": [
    "## Read the content into Pandas Dataframe\n",
    "\n",
    "So that's some ugly data. It's just a massive `csv` string of data. So let's put it into a slightly more useful form using Pandas:"
   ]
  },
  {
   "cell_type": "code",
   "execution_count": null,
   "metadata": {},
   "outputs": [],
   "source": [
    "import pandas as pd\n",
    "\n",
    "pData = pd.read_csv(io.StringIO(rawData.decode('utf-8')), parse_dates=['timestamp'])\n",
    "print(pData)\n"
   ]
  },
  {
   "cell_type": "markdown",
   "metadata": {
    "scrolled": true
   },
   "source": [
    "## Narrow the search\n",
    "\n",
    "That's just getting us *all* the data, but let's narrow the search using some SQL clauses:"
   ]
  },
  {
   "cell_type": "code",
   "execution_count": null,
   "metadata": {
    "scrolled": true
   },
   "outputs": [],
   "source": [
    "import urllib.parse\n",
    "\n",
    "q = \"select cust_id, balance, balance_ccy, inactive, timestamp from balances where cust_id = 26 and balance_ccy = '$'\"\n",
    "query = urllib.parse.quote(q)\n",
    "r = requests.get(\"http://localhost:9000/exp?query=\" + query)\n",
    "queryData = r.content\n",
    "rawData = pd.read_csv(io.StringIO(queryData.decode('utf-8')), parse_dates=['timestamp'])\n",
    "print(rawData)"
   ]
  },
  {
   "cell_type": "markdown",
   "metadata": {},
   "source": [
    "## Plot the data\n",
    "\n",
    "We will use `matplotlib` to plot the data"
   ]
  },
  {
   "cell_type": "code",
   "execution_count": 22,
   "metadata": {},
   "outputs": [
    {
     "data": {
      "text/plain": [
       "array([<matplotlib.axes._subplots.AxesSubplot object at 0x122649d90>],\n",
       "      dtype=object)"
      ]
     },
     "execution_count": 22,
     "metadata": {},
     "output_type": "execute_result"
    },
    {
     "data": {
      "image/png": "[encoded data removed]",
      "text/plain": [
       "<Figure size 432x288 with 1 Axes>"
      ]
     },
     "metadata": {
      "needs_background": "light"
     },
     "output_type": "display_data"
    }
   ],
   "source": [
    "from matplotlib import pyplot as plt\n",
    "\n",
    "rawData.plot(\"timestamp\", [\"balance\"], subplots=True)\n",
    "\n"
   ]
  },
  {
   "cell_type": "code",
   "execution_count": null,
   "metadata": {},
   "outputs": [],
   "source": []
  }
 ],
 "metadata": {
  "kernelspec": {
   "display_name": "Python 3",
   "language": "python",
   "name": "python3"
  },
  "language_info": {
   "codemirror_mode": {
    "name": "ipython",
    "version": 3
   },
   "file_extension": ".py",
   "mimetype": "text/x-python",
   "name": "python",
   "nbconvert_exporter": "python",
   "pygments_lexer": "ipython3",
   "version": "3.7.6"
  }
 },
 "nbformat": 4,
 "nbformat_minor": 2
}
